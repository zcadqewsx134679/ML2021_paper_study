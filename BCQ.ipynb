{
 "cells": [
  {
   "cell_type": "code",
   "execution_count": 1,
   "metadata": {},
   "outputs": [],
   "source": [
    "import gym\n",
    "import numpy as np\n",
    "import random\n",
    "import matplotlib.pyplot as plt\n",
    "import statistics\n",
    "from gym import spaces\n",
    "from gym.utils import seeding\n",
    "import math"
   ]
  },
  {
   "cell_type": "code",
   "execution_count": 171,
   "metadata": {},
   "outputs": [],
   "source": [
    "class RouletteEnv(gym.Env):\n",
    "    \"\"\"Simple roulette environment\n",
    "    The roulette wheel has 37 spots. If the bet is 0 and a 0 comes up,\n",
    "    you win a reward of 35. If the parity of your bet matches the parity\n",
    "    of the spin, you win 1. Otherwise you receive a reward of -1.\n",
    "    The long run reward for playing 0 should be -1/37 for any state\n",
    "    The last action (38) stops the rollout for a return of 0 (walking away)\n",
    "    \"\"\"\n",
    "    def __init__(self, spots=38):\n",
    "        self.n = spots + 1\n",
    "        self.action_space = spaces.Discrete(self.n)\n",
    "        self.observation_space = spaces.Discrete(1)\n",
    "        self.seed()\n",
    "\n",
    "    def seed(self, seed=None):\n",
    "        self.np_random, seed = seeding.np_random(seed)\n",
    "        return [seed]\n",
    "\n",
    "    def step(self, action):\n",
    "        assert self.action_space.contains(action)\n",
    "        if action == self.n - 1:\n",
    "            # observation, reward, done, info\n",
    "            return 0, 0, True, {}\n",
    "\n",
    "        # N.B. np.random.randint draws from [A, B) while random.randint draws from [A,B]\n",
    "        val = self.np_random.randint(0, self.n - 1)\n",
    "        if val == action :\n",
    "            reward = -0.0526*self.n+self.n-1\n",
    "        else:\n",
    "            reward = -1.0\n",
    "            \n",
    "        return 0, reward, False, {}\n",
    "\n",
    "    def reset(self):\n",
    "        return 0"
   ]
  },
  {
   "cell_type": "code",
   "execution_count": 172,
   "metadata": {},
   "outputs": [],
   "source": [
    "def Bias_cor(bM,Var):\n",
    "    \n",
    "    return (0.5774/bM+bM)*Var**0.5\n",
    "\n",
    "def bM(M,constant=7):\n",
    "    # bM := (2log(M+7)-log(log(M+7))-log4pi)**0.5\n",
    "    return (2*math.log(M+constant) - math.log(math.log(M+constant))-math.log(4*math.pi))**0.5"
   ]
  },
  {
   "cell_type": "code",
   "execution_count": 179,
   "metadata": {
    "scrolled": false
   },
   "outputs": [
    {
     "data": {
      "image/png": "[encoded data removed]",
      "text/plain": [
       "<Figure size 720x360 with 1 Axes>"
      ]
     },
     "metadata": {
      "needs_background": "light"
     },
     "output_type": "display_data"
    }
   ],
   "source": [
    "# action = 0~37 bet spot\n",
    "# action = 38  no bet\n",
    "#Total number of action = 39\n",
    "# Q - Learning\n",
    "\n",
    "spot_num = 38\n",
    "warmup = 1000\n",
    "env = RouletteEnv(spots=spot_num)\n",
    "gamma = 0.99\n",
    "plt.figure(figsize=(10,5))\n",
    "state = env.reset()\n",
    "\n",
    "#line_number\n",
    "for line in range(1):\n",
    "\n",
    "    V_history      = []\n",
    "    V_history_corr = []\n",
    "    Q      = np.zeros(spot_num+1)\n",
    "    Q_corr = np.zeros(spot_num+1)\n",
    "    R_dict = np.zeros((spot_num+1,5))\n",
    "    # R_dict \n",
    "    # ( 0  ,  1  ,  2   ,     3     ,     4   )\n",
    "    # (num , sum , mean ,square_sum , variance)\n",
    "    epoch = []\n",
    "    \n",
    "    for i in range(1000000):\n",
    "        \n",
    "        alpha = 100/(i+100)\n",
    "        #alpha = 400/(i+400)\n",
    "        policy = random.randint(0,spot_num)  #random explore\n",
    "        #policy = np.argmax(Q_corr)     #greedy\n",
    "        s,r,done,_ = env.step(policy)\n",
    "        \n",
    "        \n",
    "        R_dict[policy,0] += 1\n",
    "        R_dict[policy,1] += r\n",
    "        R_dict[policy,2]  = R_dict[policy,1]/R_dict[policy,0]\n",
    "        R_dict[policy,3] += r**2\n",
    "        R_dict[policy,4]  = R_dict[policy,3]/R_dict[policy,0] - R_dict[policy,2]**2\n",
    "        \n",
    "        \n",
    "        if R_dict[policy,0]>warmup:\n",
    "            B = Bias_cor(bM(spot_num+1), R_dict[policy,4])\n",
    "            Q_corr[policy] = (1-alpha) * Q_corr[policy] + alpha * (R_dict[policy,2] + gamma * Q_corr.max() - B)          \n",
    "        \n",
    "        V_history_corr.append( Q_corr.max() )\n",
    "        epoch.append(i)\n",
    "        \n",
    "        Q[policy] = (1-alpha) * Q[policy] + alpha * (r + gamma * Q.max())\n",
    "        V_history.append( Q.max() )\n",
    "        \n",
    "        \n",
    "    plt.plot(epoch,V_history_corr,label=\"corr\")\n",
    "    plt.plot(epoch,V_history,label=\"no corr\")\n",
    "\n",
    "\n",
    "#plt.xlim(0,1000000)\n",
    "#plt.ylim(-10,350)\n",
    "plt.title(\"V_history\") \n",
    "plt.ylabel(\"V\")\n",
    "plt.xlabel(\"step\")\n",
    "plt.legend()\n",
    "plt.show()"
   ]
  },
  {
   "cell_type": "code",
   "execution_count": 176,
   "metadata": {
    "scrolled": true
   },
   "outputs": [
    {
     "data": {
      "text/plain": [
       "array([-91.23137064, -91.07199698, -91.17437013, -91.3370591 ,\n",
       "       -91.28599699, -91.15648612, -91.00098238, -91.25446139,\n",
       "       -91.07157679, -91.30902776, -91.30099061, -91.06369328,\n",
       "       -91.22574475, -91.35399168, -91.2530251 , -91.35982851,\n",
       "       -91.09437265, -91.1300721 , -91.23456838, -91.20764251,\n",
       "       -90.99827207, -91.15265258, -91.0687254 , -91.0137518 ,\n",
       "       -91.23119264, -91.18067016, -91.28324804, -91.18723752,\n",
       "       -91.31061442, -91.14829752, -91.08675832, -91.20666615,\n",
       "       -91.0712829 , -91.20546036, -91.03351794, -91.26743016,\n",
       "       -91.17378167, -91.16234079, -91.19843215])"
      ]
     },
     "execution_count": 176,
     "metadata": {},
     "output_type": "execute_result"
    }
   ],
   "source": [
    "#final Q\n",
    "Q_corr[:]"
   ]
  },
  {
   "cell_type": "code",
   "execution_count": 177,
   "metadata": {
    "scrolled": true
   },
   "outputs": [
    {
     "data": {
      "text/plain": [
       "array([-0.06548278, -0.02142202, -0.02630183, -0.08707156, -0.08471338,\n",
       "       -0.03886741,  0.03045637, -0.05425591, -0.04152388, -0.04277495,\n",
       "       -0.05792309, -0.04709597, -0.02593695, -0.04823292,  0.04478218,\n",
       "       -0.05490271, -0.01814506, -0.07516508, -0.06196997, -0.05894411,\n",
       "       -0.03651404,  0.03622452,  0.05172261, -0.02595194, -0.02396127,\n",
       "       -0.02576651, -0.05274833, -0.01493442, -0.0442237 , -0.02664384,\n",
       "       -0.05252605, -0.05297186, -0.03084685, -0.01796299, -0.02862367,\n",
       "       -0.10018193,  0.00289669, -0.07784613,  0.        ])"
      ]
     },
     "execution_count": 177,
     "metadata": {},
     "output_type": "execute_result"
    }
   ],
   "source": [
    "# exceptation of C(s,a)\n",
    "R_dict[:,2]"
   ]
  },
  {
   "cell_type": "code",
   "execution_count": null,
   "metadata": {
    "scrolled": true
   },
   "outputs": [],
   "source": []
  },
  {
   "cell_type": "code",
   "execution_count": null,
   "metadata": {},
   "outputs": [],
   "source": []
  },
  {
   "cell_type": "code",
   "execution_count": 126,
   "metadata": {},
   "outputs": [
    {
     "data": {
      "text/plain": [
       "<AxesSubplot:>"
      ]
     },
     "execution_count": 126,
     "metadata": {},
     "output_type": "execute_result"
    },
    {
     "data": {
      "image/png": "[encoded data removed]",
      "text/plain": [
       "<Figure size 432x288 with 1 Axes>"
      ]
     },
     "metadata": {
      "needs_background": "light"
     },
     "output_type": "display_data"
    }
   ],
   "source": [
    "from pandas import Series,DataFrame\n",
    "values = Series(R_dict[:,2])\n",
    "values.hist(bins=10)"
   ]
  },
  {
   "cell_type": "code",
   "execution_count": 134,
   "metadata": {},
   "outputs": [
    {
     "name": "stdout",
     "output_type": "stream",
     "text": [
      "-5.25999999999997\n"
     ]
    }
   ],
   "source": [
    "sum = 0\n",
    "for i in range(100000):\n",
    "    sum += -0.0526*0.99**i\n",
    "print(sum)"
   ]
  },
  {
   "cell_type": "code",
   "execution_count": null,
   "metadata": {},
   "outputs": [],
   "source": []
  },
  {
   "cell_type": "code",
   "execution_count": null,
   "metadata": {},
   "outputs": [],
   "source": []
  },
  {
   "cell_type": "code",
   "execution_count": null,
   "metadata": {},
   "outputs": [],
   "source": []
  }
 ],
 "metadata": {
  "kernelspec": {
   "display_name": "Python 3",
   "language": "python",
   "name": "python3"
  },
  "language_info": {
   "codemirror_mode": {
    "name": "ipython",
    "version": 3
   },
   "file_extension": ".py",
   "mimetype": "text/x-python",
   "name": "python",
   "nbconvert_exporter": "python",
   "pygments_lexer": "ipython3",
   "version": "3.8.5"
  }
 },
 "nbformat": 4,
 "nbformat_minor": 4
}
